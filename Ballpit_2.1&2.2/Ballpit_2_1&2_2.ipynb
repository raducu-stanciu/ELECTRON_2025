{
  "nbformat": 4,
  "nbformat_minor": 0,
  "metadata": {
    "colab": {
      "provenance": []
    },
    "kernelspec": {
      "name": "python3",
      "display_name": "Python 3"
    },
    "language_info": {
      "name": "python"
    }
  },
  "cells": [
    {
      "cell_type": "code",
      "execution_count": null,
      "metadata": {
        "id": "uCWbb_o_mBog"
      },
      "outputs": [],
      "source": [
        "import cv2\n",
        "import numpy as np\n"
      ]
    },
    {
      "cell_type": "code",
      "source": [
        "# 1. Deschide fișierul video\n",
        "video_path = '/content/track_2-1.mp4'\n",
        "cap = cv2.VideoCapture(video_path)"
      ],
      "metadata": {
        "id": "7IENQYLmmR3_"
      },
      "execution_count": null,
      "outputs": []
    },
    {
      "cell_type": "code",
      "source": [
        "frames = []\n",
        "frame_count = 0"
      ],
      "metadata": {
        "id": "lkEa77rUmT4W"
      },
      "execution_count": null,
      "outputs": []
    },
    {
      "cell_type": "code",
      "source": [
        "# 2. Extrage toate cadrele\n",
        "while cap.isOpened() and frame_count < 24:  # 24 de cadre pentru 1 secundă la 24 FPS\n",
        "    ret, frame = cap.read()\n",
        "    if not ret:\n",
        "        break\n",
        "    frames.append(frame)\n",
        "    frame_count += 1\n"
      ],
      "metadata": {
        "id": "KJnOPBIumVFP"
      },
      "execution_count": null,
      "outputs": []
    },
    {
      "cell_type": "code",
      "source": [
        "# 3. Convertire la numpy array\n",
        "frames = np.array(frames)\n"
      ],
      "metadata": {
        "id": "jIQs3k0BmWkf"
      },
      "execution_count": null,
      "outputs": []
    },
    {
      "cell_type": "code",
      "source": [
        "# 4. Calculează mediana (elimină zgomotul)\n",
        "denoised_frame = np.median(frames, axis=0).astype(np.uint8)"
      ],
      "metadata": {
        "id": "XMv8bhV1mX4H"
      },
      "execution_count": null,
      "outputs": []
    },
    {
      "cell_type": "code",
      "source": [
        "# 5. Salvează rezultatele\n",
        "cv2.imwrite(\"denoised_result.png\", denoised_frame)\n"
      ],
      "metadata": {
        "colab": {
          "base_uri": "https://localhost:8080/"
        },
        "id": "zPEQy_6RmZ1P",
        "outputId": "3f689a5a-b8ce-4697-dad7-5ba3a8a8f95a"
      },
      "execution_count": null,
      "outputs": [
        {
          "output_type": "execute_result",
          "data": {
            "text/plain": [
              "True"
            ]
          },
          "metadata": {},
          "execution_count": 7
        }
      ]
    },
    {
      "cell_type": "code",
      "source": [
        "\n",
        "cap.release()\n",
        "print(\"Proces completat! Imagine fără zgomot salvată ca 'denoised_result.png'\")"
      ],
      "metadata": {
        "colab": {
          "base_uri": "https://localhost:8080/"
        },
        "id": "79LAkBLAmb9f",
        "outputId": "57d8a226-97cf-47f8-a56d-1a253b2cae98"
      },
      "execution_count": null,
      "outputs": [
        {
          "output_type": "stream",
          "name": "stdout",
          "text": [
            "Proces completat! Imagine fără zgomot salvată ca 'denoised_result.png'\n"
          ]
        }
      ]
    },
    {
      "cell_type": "markdown",
      "source": [
        "task 2.2"
      ],
      "metadata": {
        "id": "6a_sPggPo1Qf"
      }
    },
    {
      "cell_type": "code",
      "source": [
        "import cv2\n",
        "import numpy as np\n",
        "from collections import defaultdict # Import defaultdict here\n",
        "from sklearn.cluster import KMeans\n",
        "from scipy import ndimage"
      ],
      "metadata": {
        "id": "H1rRowRAo0yf"
      },
      "execution_count": null,
      "outputs": []
    },
    {
      "cell_type": "code",
      "source": [
        "# Load image\n",
        "img = cv2.imread('/content/denoised_result.png')\n",
        "img = cv2.cvtColor(img, cv2.COLOR_BGR2RGB)\n",
        "\n",
        "# Reshape\n",
        "pixels = img.reshape((-1, 3))"
      ],
      "metadata": {
        "id": "nr3ruloHpIXX"
      },
      "execution_count": null,
      "outputs": []
    },
    {
      "cell_type": "code",
      "source": [
        "# KMeans clustering\n",
        "k =  10 # sau câte crezi că sunt\n",
        "kmeans = KMeans(n_clusters=k, random_state=0).fit(pixels)\n",
        "labels = kmeans.labels_\n",
        "labels_img = labels.reshape((img.shape[0], img.shape[1]))"
      ],
      "metadata": {
        "id": "bbR_In0z9ESo"
      },
      "execution_count": null,
      "outputs": []
    },
    {
      "cell_type": "code",
      "source": [
        "# Count balls\n",
        "ball_counts = []\n",
        "for i in range(k):\n",
        "    mask = (labels_img == i).astype(np.uint8)\n",
        "    labeled_array, num_features = ndimage.label(mask)\n",
        "    ball_counts.append(num_features)"
      ],
      "metadata": {
        "id": "7N0E-1_Q9HP_"
      },
      "execution_count": null,
      "outputs": []
    },
    {
      "cell_type": "code",
      "source": [
        "# Sort\n",
        "ball_counts_sorted = sorted(ball_counts, reverse=True)\n",
        "\n",
        "# Save\n",
        "np.save('ball_counts_sorted.npy', ball_counts_sorted)"
      ],
      "metadata": {
        "id": "cwijsShF9KVI"
      },
      "execution_count": null,
      "outputs": []
    },
    {
      "cell_type": "code",
      "source": [
        "\n",
        "# Încarci fișierul\n",
        "ball_counts_sorted = np.load('ball_counts_sorted.npy')\n",
        "\n",
        "# Afișezi conținutul\n",
        "print(ball_counts_sorted)"
      ],
      "metadata": {
        "colab": {
          "base_uri": "https://localhost:8080/"
        },
        "id": "kxFBGrIh9Who",
        "outputId": "8587ccca-ead7-4b63-f1fa-bb84e8e02868"
      },
      "execution_count": null,
      "outputs": [
        {
          "output_type": "stream",
          "name": "stdout",
          "text": [
            "[684 369 358 357 351 350 347 347 314   2]\n"
          ]
        }
      ]
    },
    {
      "cell_type": "markdown",
      "source": [
        "# New Section"
      ],
      "metadata": {
        "id": "TbKsNRsMmDao"
      }
    }
  ]
}